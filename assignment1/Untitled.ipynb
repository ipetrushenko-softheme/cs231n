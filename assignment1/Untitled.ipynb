{
 "cells": [
  {
   "cell_type": "code",
   "execution_count": null,
   "metadata": {
    "collapsed": true
   },
   "outputs": [],
   "source": []
  },
  {
   "cell_type": "code",
   "execution_count": 54,
   "metadata": {
    "collapsed": false,
    "scrolled": true
   },
   "outputs": [
    {
     "name": "stdout",
     "output_type": "stream",
     "text": [
      "[4]\n",
      "<type 'numpy.ndarray'>\n",
      "[]\n",
      "[array([1, 2])]\n",
      "[array([1, 2]) array([2])]\n",
      "[array([1, 2]) array([2]) array([3])]\n"
     ]
    }
   ],
   "source": [
    "import numpy as np\n",
    "a = []\n",
    "\n",
    "a.extend([4])\n",
    "\n",
    "print a\n",
    "\n",
    "\n",
    "\n",
    "k_choices = [1, 3, 5, 8, 10, 12, 15, 20, 50, 100]\n",
    "\n",
    "l = [1, 2, 2, 3, 4, 5]\n",
    "split = np.array(np.array_split(l, 5))\n",
    "\n",
    "\n",
    "print type(np.array(4))\n",
    "#print split[0]\n",
    "for fold in xrange(4):\n",
    "    \n",
    "    fold_X_train = split[:fold]\n",
    "    print fold_X_train\n",
    "    #fold_X_train.extend(split[fold + 1:])\n",
    "    #fold_X_train = np.concatenate(fold_X_train)\n",
    "    \n",
    "    #print fold_X_train\n",
    "    #fold_X_test = X_train_folds[fold]\n",
    "    #fold_y_test = y_train_folds[fold]"
   ]
  },
  {
   "cell_type": "code",
   "execution_count": null,
   "metadata": {
    "collapsed": true
   },
   "outputs": [],
   "source": []
  }
 ],
 "metadata": {
  "kernelspec": {
   "display_name": "Python 2",
   "language": "python",
   "name": "python2"
  },
  "language_info": {
   "codemirror_mode": {
    "name": "ipython",
    "version": 2
   },
   "file_extension": ".py",
   "mimetype": "text/x-python",
   "name": "python",
   "nbconvert_exporter": "python",
   "pygments_lexer": "ipython2",
   "version": "2.7.13"
  }
 },
 "nbformat": 4,
 "nbformat_minor": 2
}
